{
 "cells": [
  {
   "cell_type": "code",
   "execution_count": 1,
   "id": "990b63f8",
   "metadata": {},
   "outputs": [],
   "source": [
    "import pennylane as qml\n",
    "import numpy as np"
   ]
  },
  {
   "cell_type": "code",
   "execution_count": 2,
   "id": "17e0bc84",
   "metadata": {},
   "outputs": [],
   "source": [
    "#A.5.1\n",
    "n_bits = 4\n",
    "dev = qml.device(\"default.qubit\", wires=n_bits)\n",
    "\n",
    "@qml.qnode(dev)\n",
    "def hoh_circuit(combo):\n",
    "    qml.broadcast(qml.Hadamard, wires = list(range(n_bits)), pattern = \"single\")\n",
    "    \n",
    "    qml.QubitUnitary(oracle_matrix(combo), wires = list(range(n_bits)))\n",
    "    \n",
    "    qml.broadcast(qml.Hadamard, wires = list(range(n_bits)), pattern = \"single\")\n",
    "\n",
    "    return qml.probs(wires=range(n_bits))"
   ]
  }
 ],
 "metadata": {
  "kernelspec": {
   "display_name": "Python 3 (ipykernel)",
   "language": "python",
   "name": "python3"
  },
  "language_info": {
   "codemirror_mode": {
    "name": "ipython",
    "version": 3
   },
   "file_extension": ".py",
   "mimetype": "text/x-python",
   "name": "python",
   "nbconvert_exporter": "python",
   "pygments_lexer": "ipython3",
   "version": "3.9.12"
  }
 },
 "nbformat": 4,
 "nbformat_minor": 5
}
