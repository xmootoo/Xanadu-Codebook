{
 "cells": [
  {
   "cell_type": "code",
   "execution_count": 1,
   "id": "8e1d8df4",
   "metadata": {},
   "outputs": [],
   "source": [
    "import pennylane as qml\n",
    "import numpy as np"
   ]
  },
  {
   "cell_type": "code",
   "execution_count": 2,
   "id": "62703996",
   "metadata": {},
   "outputs": [],
   "source": [
    "#A.4.1\n",
    "n_bits = 4\n",
    "dev = qml.device(\"default.qubit\", wires=n_bits)\n",
    "\n",
    "def multisol_oracle_matrix(combos):\n",
    "    my_array = np.identity(2 ** n_bits)\n",
    "    \n",
    "    indices = [np.ravel_multi_index(combo, [2]*len(combo)) for combo in combos]\n",
    "    for i in range(len(combos)):\n",
    "        my_array[indices[i], indices[i]] = -1\n",
    "    return my_array\n",
    "    pass\n",
    "\n",
    "@qml.qnode(dev)\n",
    "def multisol_pair_circuit(x_tilde, combos):\n",
    "    for i in range(n_bits-1): # Initialize x_tilde part of state\n",
    "        if x_tilde[i] == 1:\n",
    "            qml.PauliX(wires=i)\n",
    "    #Apply circuit\n",
    "    qml.Hadamard(wires = n_bits-1)\n",
    "    qml.QubitUnitary(multisol_oracle_matrix(combos), wires = list(range(n_bits)))\n",
    "    qml.Hadamard(wires = n_bits-1)\n",
    "    return qml.probs(wires=n_bits-1)"
   ]
  },
  {
   "cell_type": "code",
   "execution_count": null,
   "id": "019abc4d",
   "metadata": {},
   "outputs": [],
   "source": [
    "#A.4.2\n",
    "def parity_checker(combos):\n",
    "    parity = 0\n",
    "    counter = 0\n",
    "    x_tilde_strs = [np.binary_repr(n, n_bits-1) for n in range(2**(n_bits-1))]\n",
    "    x_tildes = [[int(s) for s in x_tilde_str] for x_tilde_str in x_tilde_strs]\n",
    "    \n",
    "    for x_tilde in x_tildes:\n",
    "        if np.isclose(multisol_pair_circuit(x_tilde, combos)[1], 1):\n",
    "            counter += 1\n",
    "            \n",
    "    parity = counter % 2\n",
    "    return parity"
   ]
  }
 ],
 "metadata": {
  "kernelspec": {
   "display_name": "Python 3 (ipykernel)",
   "language": "python",
   "name": "python3"
  },
  "language_info": {
   "codemirror_mode": {
    "name": "ipython",
    "version": 3
   },
   "file_extension": ".py",
   "mimetype": "text/x-python",
   "name": "python",
   "nbconvert_exporter": "python",
   "pygments_lexer": "ipython3",
   "version": "3.9.12"
  }
 },
 "nbformat": 4,
 "nbformat_minor": 5
}
