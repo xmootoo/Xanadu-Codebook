{
 "cells": [
  {
   "cell_type": "code",
   "execution_count": 4,
   "id": "711797de",
   "metadata": {},
   "outputs": [],
   "source": [
    "import pennylane as qml\n",
    "import numpy as np"
   ]
  },
  {
   "cell_type": "code",
   "execution_count": 5,
   "id": "77d45434",
   "metadata": {},
   "outputs": [],
   "source": [
    "#Required functions\n",
    "n_bits = 4\n",
    "dev = qml.device(\"default.qubit\", wires=n_bits)\n",
    "\n",
    "def multisol_oracle_matrix(combos):\n",
    "    my_array = np.identity(2 ** n_bits)\n",
    "    \n",
    "    indices = [np.ravel_multi_index(combo, [2]*len(combo)) for combo in combos]\n",
    "    for i in range(len(combos)):\n",
    "        my_array[indices[i], indices[i]] = -1\n",
    "    return my_array\n",
    "    pass\n",
    "\n",
    "@qml.qnode(dev)\n",
    "def multisol_pair_circuit(x_tilde, combos):\n",
    "    for i in range(n_bits-1): # Initialize x_tilde part of state\n",
    "        if x_tilde[i] == 1:\n",
    "            qml.PauliX(wires=i)\n",
    "    qml.Hadamard(wires = n_bits-1)\n",
    "    qml.QubitUnitary(multisol_oracle_matrix(combos), wires = list(range(n_bits)))\n",
    "    qml.Hadamard(wires = n_bits-1)\n",
    "    return qml.probs(wires=n_bits-1)"
   ]
  },
  {
   "cell_type": "code",
   "execution_count": 16,
   "id": "5c9a81cf",
   "metadata": {},
   "outputs": [
    {
     "name": "stdout",
     "output_type": "stream",
     "text": [
      "True\n"
     ]
    }
   ],
   "source": [
    "#A.6.1\n",
    "n_bits = 4\n",
    "dev = qml.device(\"default.qubit\", wires=n_bits)\n",
    "\n",
    "@qml.qnode(dev)\n",
    "def multisol_hoh_circuit(combos):\n",
    "\n",
    "    qml.broadcast(qml.Hadamard, wires = list(range(n_bits)), pattern = \"single\")\n",
    "    \n",
    "    qml.QubitUnitary(multisol_oracle_matrix(combos), wires = list(range(n_bits)))\n",
    "    \n",
    "    qml.broadcast(qml.Hadamard, wires = list(range(n_bits)), pattern = \"single\")\n",
    "\n",
    "    return qml.probs(wires=range(n_bits))"
   ]
  },
  {
   "cell_type": "code",
   "execution_count": 18,
   "id": "db535115",
   "metadata": {},
   "outputs": [],
   "source": [
    "#A.6.2\n",
    "def deutsch_jozsa(promise_var):\n",
    "    if promise_var == 0:\n",
    "        how_many = 2**(n_bits - 1)\n",
    "    else:\n",
    "        how_many = np.random.choice([0, 2**n_bits]) # Choose all or nothing randomly\n",
    "    combos = multisol_combo(n_bits, how_many) # Generate random combinations\n",
    "\n",
    "    #Use multisol function to run the Deutsch-Josza circuit, return the value corresponding to a balanced or constant function\n",
    "    if np.isclose(multisol_hoh_circuit(combos)[0],0):\n",
    "        return 0\n",
    "    else:\n",
    "        return 1"
   ]
  }
 ],
 "metadata": {
  "kernelspec": {
   "display_name": "Python 3 (ipykernel)",
   "language": "python",
   "name": "python3"
  },
  "language_info": {
   "codemirror_mode": {
    "name": "ipython",
    "version": 3
   },
   "file_extension": ".py",
   "mimetype": "text/x-python",
   "name": "python",
   "nbconvert_exporter": "python",
   "pygments_lexer": "ipython3",
   "version": "3.9.12"
  }
 },
 "nbformat": 4,
 "nbformat_minor": 5
}
