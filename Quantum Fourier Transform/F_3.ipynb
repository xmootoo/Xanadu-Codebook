{
 "cells": [
  {
   "cell_type": "code",
   "execution_count": 1,
   "id": "377beca6",
   "metadata": {},
   "outputs": [],
   "source": [
    "import pennylane as qml\n",
    "import numpy as np"
   ]
  },
  {
   "cell_type": "code",
   "execution_count": 5,
   "id": "17e31ab3",
   "metadata": {},
   "outputs": [
    {
     "name": "stdout",
     "output_type": "stream",
     "text": [
      "[[1.        +0.j         0.        +0.j        ]\n",
      " [0.        +0.j         0.92387953+0.38268343j]]\n"
     ]
    }
   ],
   "source": [
    "#F.3.1 (bugged version)\n",
    "dev = qml.device(\"default.qubit\", wires=3)\n",
    "\n",
    "#This for some reason outputs \"Incorrect: Your resulting output doesn't look quite right.\"\n",
    "@qml.qnode(dev)\n",
    "def three_qubit_QFT(basis_id):\n",
    "    # Prepare the basis state |basis_id>\n",
    "    bits = [int(x) for x in np.binary_repr(basis_id, width=dev.num_wires)]\n",
    "    qml.BasisStatePreparation(bits, wires=[0, 1, 2])\n",
    "    \n",
    "    #Note that R(2) = S gate and R(3) = T gate\n",
    "    qml.Hadamard(wires=0)\n",
    "    qml.ctrl(qml.S(wires=0), control=1)\n",
    "    qml.ctrl(qml.T(wires=0), control=2)\n",
    "    qml.Hadamard(wires=1)\n",
    "    qml.ctrl(qml.S(wires=1), control=2)\n",
    "    qml.Hadamard(wires=2)\n",
    "    qml.SWAP(wires=[0,2])\n",
    "    \n",
    "    return qml.state()"
   ]
  }
 ],
 "metadata": {
  "kernelspec": {
   "display_name": "Python 3 (ipykernel)",
   "language": "python",
   "name": "python3"
  },
  "language_info": {
   "codemirror_mode": {
    "name": "ipython",
    "version": 3
   },
   "file_extension": ".py",
   "mimetype": "text/x-python",
   "name": "python",
   "nbconvert_exporter": "python",
   "pygments_lexer": "ipython3",
   "version": "3.9.12"
  }
 },
 "nbformat": 4,
 "nbformat_minor": 5
}
