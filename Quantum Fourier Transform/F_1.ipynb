{
 "cells": [
  {
   "cell_type": "code",
   "execution_count": 3,
   "id": "d75f6b7b",
   "metadata": {},
   "outputs": [],
   "source": [
    "import pennylane as qml\n",
    "import numpy as np"
   ]
  },
  {
   "cell_type": "code",
   "execution_count": 6,
   "id": "b7f93227",
   "metadata": {},
   "outputs": [
    {
     "name": "stdout",
     "output_type": "stream",
     "text": [
      "[10.+0.j  2.-2.j  2.+0.j  2.+2.j]\n"
     ]
    }
   ],
   "source": [
    "#F.1.1\n",
    "def coefficients_to_values(coefficients):\n",
    "    #Compute the action of the matrix U_DFT on A(x) using numpy FFT function\n",
    "    return np.fft.fft(coefficients)\n",
    "\n",
    "A = [4, 3, 2, 1]\n",
    "print(coefficients_to_values(A))"
   ]
  },
  {
   "cell_type": "code",
   "execution_count": 8,
   "id": "bfde76ca",
   "metadata": {},
   "outputs": [
    {
     "name": "stdout",
     "output_type": "stream",
     "text": [
      "[4.+0.j 3.+0.j 2.+0.j 1.+0.j]\n"
     ]
    }
   ],
   "source": [
    "#F.1.2\n",
    "def values_to_coefficients(values):\n",
    "   #Compute the action U_IDFT on \\tilde{A}(x) using the numpy inverse FFT function\n",
    "    return np.fft.ifft(values)\n",
    "\n",
    "A = [10.+0.j,  2.-2.j,  2.+0.j,  2.+2.j]\n",
    "print(values_to_coefficients(A))"
   ]
  },
  {
   "cell_type": "code",
   "execution_count": 20,
   "id": "20f646b4",
   "metadata": {},
   "outputs": [],
   "source": [
    "#F.1.3\n",
    "def nearest_power_of_2(x):\n",
    "    y = int(np.ceil(np.log2(x)))\n",
    "    return 2 ** y"
   ]
  },
  {
   "cell_type": "code",
   "execution_count": 93,
   "id": "305a883d",
   "metadata": {},
   "outputs": [],
   "source": [
    "#F.4.1\n",
    "def fft_multiplication(poly_a, poly_b):\n",
    "    # Calculate the number of values required\n",
    "    x = len(poly_a) + len(poly_b) -1\n",
    "\n",
    "    # Figure out the nearest power of 2\n",
    "    m = nearest_power_of_2(x)\n",
    "\n",
    "    # Pad zeros to the polynomial\n",
    "    poly_a = np.pad(poly_a, pad_width = (0, m - len(poly_a)), mode = 'constant')\n",
    "    poly_b = np.pad(poly_b, pad_width = (0, m - len(poly_b)), mode = 'constant')\n",
    "\n",
    "    # Compute the value representation of each polynomial using DFT\n",
    "    val_a = coefficients_to_values(poly_a)\n",
    "    val_b = coefficients_to_values(poly_b)\n",
    "\n",
    "    # Compute the dot product of value representation vectors\n",
    "    val_c = np.multiply(val_a, val_b)\n",
    "    \n",
    "    # Convert back to coefficient representation using IDFT\n",
    "    poly_c = values_to_coefficients(val_c)\n",
    "    \n",
    "    return poly_c"
   ]
  }
 ],
 "metadata": {
  "kernelspec": {
   "display_name": "Python 3 (ipykernel)",
   "language": "python",
   "name": "python3"
  },
  "language_info": {
   "codemirror_mode": {
    "name": "ipython",
    "version": 3
   },
   "file_extension": ".py",
   "mimetype": "text/x-python",
   "name": "python",
   "nbconvert_exporter": "python",
   "pygments_lexer": "ipython3",
   "version": "3.9.12"
  }
 },
 "nbformat": 4,
 "nbformat_minor": 5
}
