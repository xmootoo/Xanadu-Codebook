{
 "cells": [
  {
   "cell_type": "code",
   "execution_count": 1,
   "id": "b41b4828",
   "metadata": {},
   "outputs": [],
   "source": [
    "import pennylane as qml\n",
    "import numpy as np"
   ]
  },
  {
   "cell_type": "code",
   "execution_count": 2,
   "id": "53e96303",
   "metadata": {},
   "outputs": [],
   "source": [
    "#F.2.1\n",
    "dev = qml.device(\"default.qubit\", wires=1)\n",
    "\n",
    "@qml.qnode(dev)\n",
    "def one_qubit_QFT(basis_id):\n",
    "    # Prepare the basis state |basis_id>\n",
    "    bits = [int(x) for x in np.binary_repr(basis_id, width=dev.num_wires)]\n",
    "    qml.BasisStatePreparation(bits, wires=[0])\n",
    "\n",
    "    qml.Hadamard(wires = 0)\n",
    "    return qml.state()"
   ]
  },
  {
   "cell_type": "code",
   "execution_count": 35,
   "id": "320017f5",
   "metadata": {},
   "outputs": [],
   "source": [
    "#F.2.2\n",
    "n_bits = 2\n",
    "dev = qml.device(\"default.qubit\", wires=n_bits)\n",
    "\n",
    "@qml.qnode(dev)\n",
    "def two_qubit_QFT(basis_id):\n",
    "    # Prepare the basis state |basis_id>\n",
    "    bits = [int(x) for x in np.binary_repr(basis_id, width=dev.num_wires)]\n",
    "    qml.BasisStatePreparation(bits, wires=[0, 1])\n",
    "    \n",
    "    #Define a function that raises omega to the nth power\n",
    "    def omega(n):\n",
    "        return np.exp(2 * np.pi * 1j/4 * n)\n",
    "    \n",
    "    #Create U_QFT\n",
    "    U_QFT = (1/2) * np.array([[1,1,1,1], [1, omega(1), omega(2), omega(3)], \n",
    "    [1, omega(2), omega(4), omega(6)], [1, omega(3), omega(6), omega(9)]])\n",
    "    \n",
    "    #Apply it to the state\n",
    "    qml.QubitUnitary(U_QFT, wires = [0,1])\n",
    "    return qml.state()"
   ]
  },
  {
   "cell_type": "code",
   "execution_count": 34,
   "id": "340ff8f1",
   "metadata": {},
   "outputs": [],
   "source": [
    "#F.2.3\n",
    "dev = qml.device(\"default.qubit\", wires=2)\n",
    "\n",
    "@qml.qnode(dev)\n",
    "def decompose_two_qubit_QFT(basis_id):\n",
    "    # Prepare the basis state |basis_id>\n",
    "    bits = [int(x) for x in np.binary_repr(basis_id, width=dev.num_wires)]\n",
    "    qml.BasisStatePreparation(bits, wires=[0, 1])\n",
    "    \n",
    "    qml.Hadamard(wires = 0)\n",
    "    qml.ctrl(qml.S(wires=0), control = 1)\n",
    "    qml.Hadamard(wires = 1)\n",
    "    qml.SWAP(wires = [0,1])\n",
    "    return qml.state()"
   ]
  }
 ],
 "metadata": {
  "kernelspec": {
   "display_name": "Python 3 (ipykernel)",
   "language": "python",
   "name": "python3"
  },
  "language_info": {
   "codemirror_mode": {
    "name": "ipython",
    "version": 3
   },
   "file_extension": ".py",
   "mimetype": "text/x-python",
   "name": "python",
   "nbconvert_exporter": "python",
   "pygments_lexer": "ipython3",
   "version": "3.9.12"
  }
 },
 "nbformat": 4,
 "nbformat_minor": 5
}
