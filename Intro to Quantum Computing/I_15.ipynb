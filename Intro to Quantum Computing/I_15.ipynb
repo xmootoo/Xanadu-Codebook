{
 "cells": [
  {
   "cell_type": "code",
   "execution_count": 3,
   "id": "0e1005c8",
   "metadata": {},
   "outputs": [],
   "source": [
    "import pennylane as qml\n",
    "import numpy as np"
   ]
  },
  {
   "cell_type": "code",
   "execution_count": null,
   "id": "c8b808ef",
   "metadata": {},
   "outputs": [],
   "source": [
    "#I.15.3\n",
    "def rotate_and_controls():\n",
    "   # Change of basis\n",
    "    qml.CNOT(wires = [0,1])\n",
    "    qml.Hadamard(wires = 0)\n",
    "    \n",
    "    # Measurement\n",
    "    qml.CNOT(wires = [1,2])\n",
    "    qml.CZ(wires = [0,2])"
   ]
  },
  {
   "cell_type": "code",
   "execution_count": 5,
   "id": "693cf7ed",
   "metadata": {},
   "outputs": [
    {
     "ename": "NameError",
     "evalue": "name 'entangle_qubits' is not defined",
     "output_type": "error",
     "traceback": [
      "\u001b[0;31m---------------------------------------------------------------------------\u001b[0m",
      "\u001b[0;31mNameError\u001b[0m                                 Traceback (most recent call last)",
      "Input \u001b[0;32mIn [5]\u001b[0m, in \u001b[0;36m<cell line: 20>\u001b[0;34m()\u001b[0m\n\u001b[1;32m     17\u001b[0m     \u001b[38;5;66;03m# RETURN THE STATE\u001b[39;00m\n\u001b[1;32m     18\u001b[0m     \u001b[38;5;28;01mreturn\u001b[39;00m qml\u001b[38;5;241m.\u001b[39mstate()\n\u001b[0;32m---> 20\u001b[0m \u001b[43mteleportation\u001b[49m\u001b[43m(\u001b[49m\u001b[43m)\u001b[49m\n",
      "File \u001b[0;32m~/opt/anaconda3/lib/python3.9/site-packages/pennylane/qnode.py:609\u001b[0m, in \u001b[0;36mQNode.__call__\u001b[0;34m(self, *args, **kwargs)\u001b[0m\n\u001b[1;32m    606\u001b[0m         set_shots(\u001b[38;5;28mself\u001b[39m\u001b[38;5;241m.\u001b[39m_original_device, override_shots)(\u001b[38;5;28mself\u001b[39m\u001b[38;5;241m.\u001b[39m_update_gradient_fn)()\n\u001b[1;32m    608\u001b[0m \u001b[38;5;66;03m# construct the tape\u001b[39;00m\n\u001b[0;32m--> 609\u001b[0m \u001b[38;5;28;43mself\u001b[39;49m\u001b[38;5;241;43m.\u001b[39;49m\u001b[43mconstruct\u001b[49m\u001b[43m(\u001b[49m\u001b[43margs\u001b[49m\u001b[43m,\u001b[49m\u001b[43m \u001b[49m\u001b[43mkwargs\u001b[49m\u001b[43m)\u001b[49m\n\u001b[1;32m    611\u001b[0m cache \u001b[38;5;241m=\u001b[39m \u001b[38;5;28mself\u001b[39m\u001b[38;5;241m.\u001b[39mexecute_kwargs\u001b[38;5;241m.\u001b[39mget(\u001b[38;5;124m\"\u001b[39m\u001b[38;5;124mcache\u001b[39m\u001b[38;5;124m\"\u001b[39m, \u001b[38;5;28;01mFalse\u001b[39;00m)\n\u001b[1;32m    612\u001b[0m using_custom_cache \u001b[38;5;241m=\u001b[39m (\n\u001b[1;32m    613\u001b[0m     \u001b[38;5;28mhasattr\u001b[39m(cache, \u001b[38;5;124m\"\u001b[39m\u001b[38;5;124m__getitem__\u001b[39m\u001b[38;5;124m\"\u001b[39m)\n\u001b[1;32m    614\u001b[0m     \u001b[38;5;129;01mand\u001b[39;00m \u001b[38;5;28mhasattr\u001b[39m(cache, \u001b[38;5;124m\"\u001b[39m\u001b[38;5;124m__setitem__\u001b[39m\u001b[38;5;124m\"\u001b[39m)\n\u001b[1;32m    615\u001b[0m     \u001b[38;5;129;01mand\u001b[39;00m \u001b[38;5;28mhasattr\u001b[39m(cache, \u001b[38;5;124m\"\u001b[39m\u001b[38;5;124m__delitem__\u001b[39m\u001b[38;5;124m\"\u001b[39m)\n\u001b[1;32m    616\u001b[0m )\n",
      "File \u001b[0;32m~/opt/anaconda3/lib/python3.9/site-packages/pennylane/qnode.py:526\u001b[0m, in \u001b[0;36mQNode.construct\u001b[0;34m(self, args, kwargs)\u001b[0m\n\u001b[1;32m    523\u001b[0m \u001b[38;5;28mself\u001b[39m\u001b[38;5;241m.\u001b[39m_tape \u001b[38;5;241m=\u001b[39m qml\u001b[38;5;241m.\u001b[39mtape\u001b[38;5;241m.\u001b[39mQuantumTape()\n\u001b[1;32m    525\u001b[0m \u001b[38;5;28;01mwith\u001b[39;00m \u001b[38;5;28mself\u001b[39m\u001b[38;5;241m.\u001b[39mtape:\n\u001b[0;32m--> 526\u001b[0m     \u001b[38;5;28mself\u001b[39m\u001b[38;5;241m.\u001b[39m_qfunc_output \u001b[38;5;241m=\u001b[39m \u001b[38;5;28;43mself\u001b[39;49m\u001b[38;5;241;43m.\u001b[39;49m\u001b[43mfunc\u001b[49m\u001b[43m(\u001b[49m\u001b[38;5;241;43m*\u001b[39;49m\u001b[43margs\u001b[49m\u001b[43m,\u001b[49m\u001b[43m \u001b[49m\u001b[38;5;241;43m*\u001b[39;49m\u001b[38;5;241;43m*\u001b[39;49m\u001b[43mkwargs\u001b[49m\u001b[43m)\u001b[49m\n\u001b[1;32m    527\u001b[0m \u001b[38;5;28mself\u001b[39m\u001b[38;5;241m.\u001b[39m_tape\u001b[38;5;241m.\u001b[39m_qfunc_output \u001b[38;5;241m=\u001b[39m \u001b[38;5;28mself\u001b[39m\u001b[38;5;241m.\u001b[39m_qfunc_output\n\u001b[1;32m    529\u001b[0m params \u001b[38;5;241m=\u001b[39m \u001b[38;5;28mself\u001b[39m\u001b[38;5;241m.\u001b[39mtape\u001b[38;5;241m.\u001b[39mget_parameters(trainable_only\u001b[38;5;241m=\u001b[39m\u001b[38;5;28;01mFalse\u001b[39;00m)\n",
      "Input \u001b[0;32mIn [5]\u001b[0m, in \u001b[0;36mteleportation\u001b[0;34m()\u001b[0m\n\u001b[1;32m     10\u001b[0m \u001b[38;5;129m@qml\u001b[39m\u001b[38;5;241m.\u001b[39mqnode(dev)\n\u001b[1;32m     11\u001b[0m \u001b[38;5;28;01mdef\u001b[39;00m \u001b[38;5;21mteleportation\u001b[39m():\n\u001b[1;32m     12\u001b[0m     \u001b[38;5;66;03m# USE YOUR QUANTUM FUNCTIONS TO IMPLEMENT QUANTUM TELEPORTATION\u001b[39;00m\n\u001b[1;32m     13\u001b[0m     state_preparation()\n\u001b[0;32m---> 14\u001b[0m     \u001b[43mentangle_qubits\u001b[49m()\n\u001b[1;32m     15\u001b[0m     rotate_and_controls()\n\u001b[1;32m     17\u001b[0m     \u001b[38;5;66;03m# RETURN THE STATE\u001b[39;00m\n",
      "\u001b[0;31mNameError\u001b[0m: name 'entangle_qubits' is not defined"
     ]
    }
   ],
   "source": [
    "#I.15.4\n",
    "dev = qml.device(\"default.qubit\", wires=3)\n",
    "\n",
    "# OPTIONALLY UPDATE THIS STATE PREPARATION ROUTINE\n",
    "def state_preparation():\n",
    "    qml.Hadamard(wires=0)\n",
    "    qml.Rot(0.1, 0.2, 0.3, wires=0)\n",
    "    \n",
    "\n",
    "@qml.qnode(dev)\n",
    "def teleportation():\n",
    "    # USE YOUR QUANTUM FUNCTIONS TO IMPLEMENT QUANTUM TELEPORTATION\n",
    "    state_preparation()\n",
    "    entangle_qubits()\n",
    "    rotate_and_controls()\n",
    "\n",
    "    # RETURN THE STATE\n",
    "    return qml.state()\n",
    "\n",
    "print(teleportation())"
   ]
  },
  {
   "cell_type": "code",
   "execution_count": null,
   "id": "9c4f0577",
   "metadata": {},
   "outputs": [],
   "source": [
    "#I.15.5\n",
    "def extract_qubit_state(input_state):\n",
    "\n",
    "    # Computing the tensor product gives us a state vector in the form (1/2)[a,b,a,b,a,b,a,b]\n",
    "    a = 2 * input_state[0]\n",
    "    b = 2 * input_state[1]\n",
    "    \n",
    "    return np.array([a,b])\n",
    "    \n",
    "\n",
    "# Here is the teleportation routine for you\n",
    "dev = qml.device(\"default.qubit\", wires=3)\n",
    "\n",
    "\n",
    "# OPTIONALLY UPDATE THIS STATE PREPARATION ROUTINE\n",
    "def state_preparation():\n",
    "    qml.Hadamard(wires=0)\n",
    "    qml.Rot(0.1, 0.2, 0.3, wires=0)\n",
    "\n",
    "\n",
    "@qml.qnode(dev)\n",
    "def teleportation():\n",
    "    state_preparation()\n",
    "    entangle_qubits()\n",
    "    rotate_and_controls()    \n",
    "    return qml.state()\n",
    "\n",
    "# Print the extracted state after teleportation\n",
    "full_state = teleportation()\n",
    "print(extract_qubit_state(full_state))"
   ]
  }
 ],
 "metadata": {
  "kernelspec": {
   "display_name": "Python 3 (ipykernel)",
   "language": "python",
   "name": "python3"
  },
  "language_info": {
   "codemirror_mode": {
    "name": "ipython",
    "version": 3
   },
   "file_extension": ".py",
   "mimetype": "text/x-python",
   "name": "python",
   "nbconvert_exporter": "python",
   "pygments_lexer": "ipython3",
   "version": "3.9.12"
  }
 },
 "nbformat": 4,
 "nbformat_minor": 5
}
