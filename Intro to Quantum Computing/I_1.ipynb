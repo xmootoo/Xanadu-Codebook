{
 "cells": [
  {
   "cell_type": "code",
   "execution_count": 20,
   "id": "330de52f",
   "metadata": {},
   "outputs": [],
   "source": [
    "#Libraries\n",
    "import numpy as np"
   ]
  },
  {
   "cell_type": "code",
   "execution_count": 21,
   "id": "c9b49ef8",
   "metadata": {},
   "outputs": [
    {
     "name": "stdout",
     "output_type": "stream",
     "text": [
      "[0.70710678 0.70710678]\n"
     ]
    }
   ],
   "source": [
    "#I.1.1. Create a normalization function on C^2\n",
    "def normalize_state(alpha, beta):\n",
    "    # Computing the Euclidean norm\n",
    "    norm = np.sqrt(((np.abs(alpha)) ** 2) + ((np.abs(beta)) ** 2))\n",
    "    # Multiply each entry of the vector by 1/norm\n",
    "    return (1/norm) * np.array([alpha, beta])\n",
    "\n",
    "#Example: Normalization of (1/2,1/2)\n",
    "print(normalize_state(1/2, 1/2))"
   ]
  },
  {
   "cell_type": "code",
   "execution_count": 22,
   "id": "7d752088",
   "metadata": {},
   "outputs": [
    {
     "name": "stdout",
     "output_type": "stream",
     "text": [
      "<0|0> = 1\n",
      "<0|1> = 0\n",
      "<1|0> = 0\n",
      "<1|1> = 1\n",
      "<s_1|s_2> = (3-13j)\n"
     ]
    }
   ],
   "source": [
    "#I.1.2. Create the standard inner product on C^2 \n",
    "def inner_product(state_1, state_2):\n",
    "    # Using the physicist's inner product convention (i.e., conjugate linear in the 1st entry)\n",
    "    return (np.conj(state_1[0]) * state_2[0]  +  np.conj(state_1[1]) * state_2[1] )\n",
    "\n",
    "\n",
    "# Example 1\n",
    "ket_0 = np.array([1, 0])\n",
    "ket_1 = np.array([0, 1])\n",
    "\n",
    "print(f\"<0|0> = {inner_product(ket_0, ket_0)}\")\n",
    "print(f\"<0|1> = {inner_product(ket_0, ket_1)}\")\n",
    "print(f\"<1|0> = {inner_product(ket_1, ket_0)}\")\n",
    "print(f\"<1|1> = {inner_product(ket_1, ket_1)}\")\n",
    "\n",
    "# Example 2\n",
    "s_1 = np.array([1, 1j])\n",
    "s_2 = np.array([3+4j, 17])\n",
    "\n",
    "print(f\"<s_1|s_2> = {inner_product(s_1,s_2)}\")"
   ]
  },
  {
   "cell_type": "code",
   "execution_count": 23,
   "id": "487b512d",
   "metadata": {},
   "outputs": [
    {
     "name": "stdout",
     "output_type": "stream",
     "text": [
      "[0 0 1 1 1 0 1 0 0 1]\n"
     ]
    }
   ],
   "source": [
    "#I.1.3. Simulate a quantum measurement process\n",
    "def measure_state(state, num_meas):\n",
    "    #First argument is the possibility space, second argument is the size of the sample, third argument is the probability distribution\n",
    "    return np.random.choice(np.array([0,1]), num_meas, p = [np.abs(state[0]) ** 2, np.abs(state[1]) ** 2]) \n",
    "\n",
    "# Example\n",
    "state = np.array([0.8, 0.6])\n",
    "print(measure_state(state, 10))"
   ]
  },
  {
   "cell_type": "code",
   "execution_count": 24,
   "id": "e75fe613",
   "metadata": {},
   "outputs": [
    {
     "name": "stdout",
     "output_type": "stream",
     "text": [
      "[1. 0.]\n"
     ]
    }
   ],
   "source": [
    "#I.1.4. Apply a unitary transformation to a state\n",
    "\n",
    "#Initialize the unitary (Hadamard)\n",
    "H = np.array([[1, 1], [1, -1]]) / np.sqrt(2)\n",
    "\n",
    "def apply_h(state):\n",
    "    #Use standard matrix mulitplication from numpy\n",
    "    return np.matmul(H,state)\n",
    "\n",
    "# Example\n",
    "plus = np.array([1/np.sqrt(2),1/np.sqrt(2)])\n",
    "print(apply_h(plus))"
   ]
  },
  {
   "cell_type": "code",
   "execution_count": 25,
   "id": "9c8be97a",
   "metadata": {},
   "outputs": [
    {
     "name": "stdout",
     "output_type": "stream",
     "text": [
      "[1 1 1 0 1 1 1 0 0 0 0 1 0 1 0 1 0 0 1 1 0 0 0 0 1 0 0 0 0 0 0 1 0 0 1 0 0\n",
      " 1 0 0 1 0 1 1 1 1 1 0 1 1 0 0 1 0 0 1 0 1 0 0 0 1 0 0 0 1 0 0 0 1 0 1 1 0\n",
      " 0 1 1 1 0 0 1 0 0 1 1 0 1 1 0 0 1 0 1 1 1 1 1 0 0 0]\n"
     ]
    }
   ],
   "source": [
    "#I.1.5. \n",
    "\n",
    "U = np.array([[1, 1], [1, -1]]) / np.sqrt(2)\n",
    "\n",
    "def initialize_state():\n",
    "    #Return |0>\n",
    "    return np.array([1,0])\n",
    "\n",
    "\n",
    "def apply_u(state):\n",
    "    return np.dot(U, state)\n",
    "\n",
    "\n",
    "def measure_state(state, num_meas):\n",
    "    p_alpha = np.abs(state[0]) ** 2\n",
    "    p_beta = np.abs(state[1]) ** 2\n",
    "    meas_outcome = np.random.choice([0, 1], p=[p_alpha, p_beta], size=num_meas)\n",
    "    return meas_outcome\n",
    "\n",
    "\n",
    "def quantum_algorithm():\n",
    "    # Apply U to |0>\n",
    "    state = np.matmul(U,initialize_state())\n",
    "    \n",
    "    # Return the array of 100 measurement outcomes\n",
    "    return measure_state(state,100)\n",
    "\n",
    "print(quantum_algorithm())\n"
   ]
  }
 ],
 "metadata": {
  "kernelspec": {
   "display_name": "Python 3 (ipykernel)",
   "language": "python",
   "name": "python3"
  },
  "language_info": {
   "codemirror_mode": {
    "name": "ipython",
    "version": 3
   },
   "file_extension": ".py",
   "mimetype": "text/x-python",
   "name": "python",
   "nbconvert_exporter": "python",
   "pygments_lexer": "ipython3",
   "version": "3.9.12"
  }
 },
 "nbformat": 4,
 "nbformat_minor": 5
}
