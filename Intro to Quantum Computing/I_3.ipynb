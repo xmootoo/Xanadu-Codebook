{
 "cells": [
  {
   "cell_type": "code",
   "execution_count": 5,
   "id": "5e51d671",
   "metadata": {},
   "outputs": [],
   "source": [
    "import numpy as np\n",
    "import pennylane as qml"
   ]
  },
  {
   "cell_type": "code",
   "execution_count": 6,
   "id": "93f17233",
   "metadata": {},
   "outputs": [],
   "source": [
    "#I.3.1.\n",
    "dev = qml.device(\"default.qubit\", wires=1)\n",
    "\n",
    "U = np.array([[1, 1], [1, -1]]) / np.sqrt(2)\n",
    "\n",
    "@qml.qnode(dev)\n",
    "def apply_u():\n",
    "    qml.QubitUnitary(U, wires = 0)\n",
    "    # Return the state\n",
    "    return qml.state()"
   ]
  },
  {
   "cell_type": "code",
   "execution_count": 8,
   "id": "11837be3",
   "metadata": {},
   "outputs": [],
   "source": [
    "#I.3.2.\n",
    "dev = qml.device(\"default.qubit\", wires=1)\n",
    "\n",
    "@qml.qnode(dev)\n",
    "def apply_u_as_rot(phi, theta, omega):\n",
    "\n",
    "    # Apply the Rot gate\n",
    "    qml.Rot(phi, theta, omega, wires = 0)\n",
    "    \n",
    "    # Return the quantumn state vector\n",
    "    return qml.state()"
   ]
  },
  {
   "cell_type": "code",
   "execution_count": 17,
   "id": "717058c4",
   "metadata": {},
   "outputs": [],
   "source": [
    "#I.3.3.\n",
    "dev = qml.device(\"default.qubit\", wires=1)\n",
    "\n",
    "U = np.array([[1, 1], [1, -1]]) / np.sqrt(2)\n",
    "\n",
    "@qml.qnode(dev)\n",
    "def varied_initial_state(state):\n",
    "    \"\"\"Complete the function such that we can apply the operation U to\n",
    "    either |0> or |1> depending on the input argument flag.\n",
    "    \n",
    "    Args:\n",
    "        state (int): Either 0 or 1. If 1, prepare the qubit in state |1>,\n",
    "            otherwise, leave it in state 0.\n",
    "  \n",
    "    Returns:\n",
    "        array[complex]: The state of the qubit after the operations.\n",
    "    \"\"\"\n",
    "\n",
    "    # KEEP THE QUBIT IN |0> OR CHANGE IT TO |1> DEPENDING ON THE state PARAMETER\n",
    "    if state == 1:\n",
    "        qml.PauliX(wires = 0)\n",
    "    # APPLY U TO THE STATE\n",
    "    qml.QubitUnitary(U, wires = 0)\n",
    "\n",
    "    return qml.state()"
   ]
  }
 ],
 "metadata": {
  "kernelspec": {
   "display_name": "Python 3 (ipykernel)",
   "language": "python",
   "name": "python3"
  },
  "language_info": {
   "codemirror_mode": {
    "name": "ipython",
    "version": 3
   },
   "file_extension": ".py",
   "mimetype": "text/x-python",
   "name": "python",
   "nbconvert_exporter": "python",
   "pygments_lexer": "ipython3",
   "version": "3.9.12"
  }
 },
 "nbformat": 4,
 "nbformat_minor": 5
}
