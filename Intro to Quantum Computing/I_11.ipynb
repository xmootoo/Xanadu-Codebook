{
 "cells": [
  {
   "cell_type": "code",
   "execution_count": 12,
   "id": "a437307d",
   "metadata": {},
   "outputs": [],
   "source": [
    "import pennylane as qml\n",
    "from pennylane import numpy as np"
   ]
  },
  {
   "cell_type": "code",
   "execution_count": 29,
   "id": "f9ce00df",
   "metadata": {},
   "outputs": [
    {
     "data": {
      "text/plain": [
       "tensor([1.+0.j, 0.+0.j, 0.+0.j, 0.+0.j, 0.+0.j, 0.+0.j, 0.+0.j, 0.+0.j], requires_grad=True)"
      ]
     },
     "execution_count": 29,
     "metadata": {},
     "output_type": "execute_result"
    }
   ],
   "source": [
    "#I.11.1\n",
    "dev = qml.device('default.qubit', wires=3)\n",
    "\n",
    "@qml.qnode(dev)\n",
    "def make_basis_state(basis_id):\n",
    "    #Convert input to binary\n",
    "    basis_id_binary = np.base_repr(basis_id).zfill(3)\n",
    "    \n",
    "    #Convert binary string to list\n",
    "    list_1 = list(basis_id_binary)\n",
    "    \n",
    "    #Convert list to integer values\n",
    "    final_list = [int(x) for x in list_1]\n",
    "\n",
    "    #Prepare the correct computational basis state\n",
    "    for i in range(len(final_list)):\n",
    "        if final_list[i] == 1:\n",
    "            qml.PauliX(wires=i)\n",
    "    return qml.state()\n",
    "\n",
    "basis_id = 3\n",
    "print(f\"Output state = {make_basis_state(basis_id)}\")"
   ]
  },
  {
   "cell_type": "code",
   "execution_count": 30,
   "id": "6aa9eefa",
   "metadata": {},
   "outputs": [
    {
     "name": "stdout",
     "output_type": "stream",
     "text": [
      "[ 0. -1.]\n"
     ]
    }
   ],
   "source": [
    "#I.11.2\n",
    "dev = qml.device('default.qubit', wires=2)\n",
    "\n",
    "@qml.qnode(dev)\n",
    "def two_qubit_circuit():\n",
    "\n",
    "    # Prepare |+>|1>\n",
    "    qml.Hadamard(wires=0)\n",
    "    qml.PauliX(wires=1)\n",
    "\n",
    "    # Return the expected values \n",
    "    return (qml.expval(qml.PauliY(0)), qml.expval(qml.PauliZ(1)))\n",
    "\n",
    "print(two_qubit_circuit())"
   ]
  },
  {
   "cell_type": "code",
   "execution_count": 31,
   "id": "346cce2c",
   "metadata": {},
   "outputs": [
    {
     "name": "stdout",
     "output_type": "stream",
     "text": [
      "0.9999999999999996\n"
     ]
    }
   ],
   "source": [
    "#I.11.3\n",
    "dev = qml.device(\"default.qubit\", wires=2)\n",
    "\n",
    "@qml.qnode(dev)\n",
    "def create_one_minus():\n",
    "    # Prepare |1>|->\n",
    "    qml.PauliX(wires=0)\n",
    "    qml.PauliX(wires=1)\n",
    "    qml.Hadamard(wires=1)\n",
    "\n",
    "    # Return expected value of Z \\otimes X\n",
    "    return qml.expval(qml.PauliZ(0) @ qml.PauliX(1))\n",
    "\n",
    "print(create_one_minus())"
   ]
  },
  {
   "cell_type": "code",
   "execution_count": null,
   "id": "7c8d2599",
   "metadata": {},
   "outputs": [],
   "source": [
    "#I.11.4\n",
    "dev = qml.device('default.qubit', wires=2)\n",
    "\n",
    "@qml.qnode(dev)\n",
    "def circuit_1(theta):\n",
    "    qml.RX(theta, wires=0)\n",
    "    qml.RY(2 * theta, wires=1)\n",
    "\n",
    "    # Return expected value of Z \\otimes I and I \\otimes Z \n",
    "    return (qml.expval(qml.PauliZ(0)), qml.expval(qml.PauliZ(1)))\n",
    "\n",
    "\n",
    "@qml.qnode(dev)\n",
    "def circuit_2(theta):\n",
    "    qml.RX(theta, wires=0)\n",
    "    qml.RY(2 * theta, wires=1)\n",
    "    \n",
    "    # Return expected value of Z \\otimes Z\n",
    "    return qml.expval(qml.PauliZ(0) @ qml.PauliZ(1))\n",
    "\n",
    "\n",
    "def zi_iz_combination(ZI_results, IZ_results):\n",
    "    \n",
    "    combined_results = np.zeros(len(ZI_results))\n",
    "    return ZI_results * IZ_results\n",
    "\n",
    " \n",
    "theta = np.linspace(0, 2 * np.pi, 100)\n",
    "\n",
    "# Run circuit 1, and process the results\n",
    "circuit_1_results = np.array([circuit_1(t) for t in theta])\n",
    "\n",
    "ZI_results = circuit_1_results[:, 0]\n",
    "IZ_results = circuit_1_results[:, 1]\n",
    "combined_results = zi_iz_combination(ZI_results, IZ_results)\n",
    "\n",
    "# Run circuit 2\n",
    "ZZ_results = np.array([circuit_2(t) for t in theta])\n",
    "\n",
    "# Plot your results\n",
    "plot = plotter(theta, ZI_results, IZ_results, ZZ_results, combined_results)"
   ]
  }
 ],
 "metadata": {
  "kernelspec": {
   "display_name": "Python 3 (ipykernel)",
   "language": "python",
   "name": "python3"
  },
  "language_info": {
   "codemirror_mode": {
    "name": "ipython",
    "version": 3
   },
   "file_extension": ".py",
   "mimetype": "text/x-python",
   "name": "python",
   "nbconvert_exporter": "python",
   "pygments_lexer": "ipython3",
   "version": "3.9.12"
  }
 },
 "nbformat": 4,
 "nbformat_minor": 5
}
