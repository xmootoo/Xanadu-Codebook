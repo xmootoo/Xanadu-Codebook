{
 "cells": [
  {
   "cell_type": "code",
   "execution_count": 41,
   "id": "bc1db206",
   "metadata": {},
   "outputs": [],
   "source": [
    "import pennylane as qml\n",
    "from pennylane import numpy as np\n",
    "from matplotlib import pyplot as plt "
   ]
  },
  {
   "cell_type": "code",
   "execution_count": 23,
   "id": "878c2810",
   "metadata": {},
   "outputs": [
    {
     "name": "stdout",
     "output_type": "stream",
     "text": [
      "-0.7071067811865471\n"
     ]
    }
   ],
   "source": [
    "#I.10.1\n",
    "dev = qml.device('default.qubit', wires=1)\n",
    "\n",
    "@qml.qnode(dev)\n",
    "def circuit():\n",
    "    qml.RX(np.pi / 4, wires=0)\n",
    "    qml.Hadamard(wires=0)\n",
    "    qml.PauliZ(wires=0)\n",
    "\n",
    "    return qml.expval(qml.PauliY(0))\n",
    "\n",
    "print(circuit())"
   ]
  },
  {
   "cell_type": "code",
   "execution_count": 14,
   "id": "5276ecce",
   "metadata": {},
   "outputs": [
    {
     "name": "stdout",
     "output_type": "stream",
     "text": [
      "[-0.8, -0.7, -0.704, -0.70908, -0.707446]\n"
     ]
    }
   ],
   "source": [
    "#I.10.2\n",
    "\n",
    "# An array to store your results\n",
    "shot_results = [0,0,0,0,0]\n",
    "\n",
    "# Different numbers of shots\n",
    "shot_values = [100, 1000, 10000, 100000, 1000000]\n",
    "j = 0\n",
    "\n",
    "for i in shot_values: \n",
    "    \n",
    "    dev = qml.device('default.qubit', wires = 1, shots = i)\n",
    "    \n",
    "    @qml.qnode(dev)\n",
    "    def device():\n",
    "        qml.RX(np.pi / 4, wires=0)\n",
    "        qml.Hadamard(wires=0)\n",
    "        qml.PauliZ(wires=0)\n",
    "\n",
    "        return qml.expval(qml.PauliY(wires=0))\n",
    "    \n",
    "    shot_results[j] = device()\n",
    "    j+=1\n",
    "\n",
    "print(qml.math.unwrap(shot_results))"
   ]
  },
  {
   "cell_type": "code",
   "execution_count": 36,
   "id": "ae426fe8",
   "metadata": {},
   "outputs": [
    {
     "name": "stdout",
     "output_type": "stream",
     "text": [
      "-0.70344\n"
     ]
    }
   ],
   "source": [
    "#I.10.3\n",
    "\n",
    "# Recreate the standard circuit we've been using\n",
    "dev = qml.device(\"default.qubit\", wires=1, shots=100000)\n",
    "\n",
    "@qml.qnode(dev)\n",
    "def circuit():\n",
    "    qml.RX(np.pi/4, wires=0)\n",
    "    qml.Hadamard(wires=0)\n",
    "    qml.PauliZ(wires=0)\n",
    "    \n",
    "    return qml.sample(qml.PauliY(0))\n",
    "    \n",
    "\n",
    "# Create the 'manual' version of computing the expected value\n",
    "def compute_expval_from_samples(samples):\n",
    "\n",
    "    estimated_expval = 0\n",
    "\n",
    "    # Initialize +1 and -1 counting variables\n",
    "    plus = minus = 0\n",
    "    \n",
    "    # Count how many times +1 and -1 appears in our sample\n",
    "    for i in range(len(samples)):\n",
    "        if samples[i] == 1:\n",
    "            plus+=1\n",
    "        else:\n",
    "            minus+=1\n",
    "    \n",
    "    # Return the expected value\n",
    "    return ((-1)*minus + plus) / len(samples)\n",
    "\n",
    "samples = circuit()\n",
    "print(compute_expval_from_samples(samples))"
   ]
  },
  {
   "cell_type": "code",
   "execution_count": 43,
   "id": "87bc5237",
   "metadata": {},
   "outputs": [
    {
     "name": "stdout",
     "output_type": "stream",
     "text": [
      "0.00012652391600000002\n"
     ]
    },
    {
     "data": {
      "image/png": "[encoded data removed]",
      "text/plain": [
       "<Figure size 432x288 with 1 Axes>"
      ]
     },
     "metadata": {
      "needs_background": "light"
     },
     "output_type": "display_data"
    },
    {
     "ename": "NameError",
     "evalue": "name 'plotter' is not defined",
     "output_type": "error",
     "traceback": [
      "\u001b[0;31m---------------------------------------------------------------------------\u001b[0m",
      "\u001b[0;31mNameError\u001b[0m                                 Traceback (most recent call last)",
      "Input \u001b[0;32mIn [43]\u001b[0m, in \u001b[0;36m<cell line: 56>\u001b[0;34m()\u001b[0m\n\u001b[1;32m     54\u001b[0m results_experiment \u001b[38;5;241m=\u001b[39m [variance_experiment(shots) \u001b[38;5;28;01mfor\u001b[39;00m shots \u001b[38;5;129;01min\u001b[39;00m shot_vals]\n\u001b[1;32m     55\u001b[0m results_scaling \u001b[38;5;241m=\u001b[39m [variance_scaling(shots) \u001b[38;5;28;01mfor\u001b[39;00m shots \u001b[38;5;129;01min\u001b[39;00m shot_vals]\n\u001b[0;32m---> 56\u001b[0m plot \u001b[38;5;241m=\u001b[39m \u001b[43mplotter\u001b[49m(shot_vals, results_experiment, results_scaling)\n",
      "\u001b[0;31mNameError\u001b[0m: name 'plotter' is not defined"
     ]
    }
   ],
   "source": [
    "#I.10.4\n",
    "def variance_experiment(n_shots):\n",
    "    \"\"\"Run an experiment to determine the variance in an expectation\n",
    "    value computed with a given number of shots.\n",
    "    \n",
    "    Args:\n",
    "        n_shots (int): The number of shots\n",
    "        \n",
    "    Returns:\n",
    "        float: The variance in expectation value we obtain running the \n",
    "        circuit 100 times with n_shots shots each.\n",
    "    \"\"\"\n",
    "\n",
    "    # To obtain a variance, we run the circuit multiple times at each shot value.\n",
    "    n_trials = 100\n",
    "\n",
    "    # CREATE A DEVICE WITH GIVEN NUMBER OF SHOTS\n",
    "    dev = qml.device('default.qubit', wires=1, shots=n_shots)\n",
    "    \n",
    "    # DECORATE THE CIRCUIT BELOW TO CREATE A QNODE\n",
    "    @qml.qnode(dev)\n",
    "    def circuit():\n",
    "        qml.Hadamard(wires=0)\n",
    "        return qml.expval(qml.PauliZ(wires=0))\n",
    "\n",
    "    # RUN THE QNODE N_TRIALS TIMES AND RETURN THE VARIANCE OF THE RESULTS\n",
    "    arr = [0] * n_trials\n",
    "    for i in range(n_trials):\n",
    "        arr[i] = circuit()\n",
    "    \n",
    "    return np.var(arr)\n",
    "\n",
    "\n",
    "# Find out how variance scales, it looks like 1/n\n",
    "print(variance_experiment(10000))\n",
    "\n",
    "x = [1,5,10,15,20]\n",
    "y = [variance_experiment(1), variance_experiment(5), variance_experiment(10), variance_experiment(15), variance_experiment(20)]\n",
    "plt.title(\"Variance Scaling\") \n",
    "plt.xlabel(\"# of shots\") \n",
    "plt.ylabel(\"Variance\") \n",
    "plt.plot(x,y) \n",
    "plt.show()\n",
    "\n",
    "\n",
    "\n",
    "def variance_scaling(n_shots):\n",
    "    estimated_variance = 1 / n_shots\n",
    "    return estimated_variance\n",
    "\n",
    "# Various numbers of shots; you can change this\n",
    "shot_vals = [10, 20, 40, 100, 200, 400, 1000, 2000, 4000]\n",
    "\n",
    "# Used to plot your results\n",
    "results_experiment = [variance_experiment(shots) for shots in shot_vals]\n",
    "results_scaling = [variance_scaling(shots) for shots in shot_vals]\n",
    "plot = plotter(shot_vals, results_experiment, results_scaling)"
   ]
  }
 ],
 "metadata": {
  "kernelspec": {
   "display_name": "Python 3 (ipykernel)",
   "language": "python",
   "name": "python3"
  },
  "language_info": {
   "codemirror_mode": {
    "name": "ipython",
    "version": 3
   },
   "file_extension": ".py",
   "mimetype": "text/x-python",
   "name": "python",
   "nbconvert_exporter": "python",
   "pygments_lexer": "ipython3",
   "version": "3.9.12"
  }
 },
 "nbformat": 4,
 "nbformat_minor": 5
}
