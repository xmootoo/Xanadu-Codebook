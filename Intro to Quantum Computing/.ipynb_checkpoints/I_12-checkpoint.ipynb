{
 "cells": [
  {
   "cell_type": "code",
   "execution_count": 1,
   "id": "ab88a977",
   "metadata": {},
   "outputs": [],
   "source": [
    "import pennylane as qml\n",
    "import numpy as np"
   ]
  },
  {
   "cell_type": "code",
   "execution_count": 2,
   "id": "9efd6d60",
   "metadata": {},
   "outputs": [
    {
     "name": "stdout",
     "output_type": "stream",
     "text": [
      "[1.+0.j 0.+0.j 0.+0.j 0.+0.j]\n"
     ]
    }
   ],
   "source": [
    "#I.12.1\n",
    "dev = qml.device('default.qubit', wires=2)\n",
    "\n",
    "@qml.qnode(dev)\n",
    "def apply_cnot(basis_id):\n",
    "    # Prepare the basis state |basis_id>\n",
    "    bits = [int(x) for x in np.binary_repr(basis_id, width=dev.num_wires)]\n",
    "    qml.BasisStatePreparation(bits, wires=[0, 1])\n",
    "\n",
    "    # APPLY THE CNOT\n",
    "    qml.CNOT(wires = [0,1])\n",
    "    \n",
    "    return qml.state()\n",
    "\n",
    "# REPLACE THE BIT STRINGS VALUES BELOW WITH THE CORRECT ONES\n",
    "cnot_truth_table = {\n",
    "    \"00\" : \"00\",\n",
    "    \"01\" : \"01\",\n",
    "    \"10\" : \"11\",\n",
    "    \"11\" : \"10\"\n",
    "}\n",
    "\n",
    "# Run your QNode with various inputs to help fill in your truth table\n",
    "print(apply_cnot(0))"
   ]
  },
  {
   "cell_type": "code",
   "execution_count": 3,
   "id": "04ae7de1",
   "metadata": {},
   "outputs": [
    {
     "name": "stdout",
     "output_type": "stream",
     "text": [
      "[0.70710678+0.j 0.        +0.j 0.70710678+0.j 0.        +0.j]\n"
     ]
    }
   ],
   "source": [
    "#I.12.2\n",
    "dev = qml.device(\"default.qubit\", wires=2)\n",
    "\n",
    "@qml.qnode(dev)\n",
    "def apply_h_cnot():\n",
    "    \n",
    "    # APPLY THE OPERATIONS IN THE CIRCUIT\n",
    "    qml.Hadamard(wires=0)\n",
    "    qml.CNOT(wires=[1,0])\n",
    "\n",
    "    return qml.state()\n",
    "\n",
    "\n",
    "print(apply_h_cnot())\n",
    "\n",
    "# This is the maximally entangled bell state B_00\n",
    "state_status = \"entangled\""
   ]
  },
  {
   "cell_type": "code",
   "execution_count": null,
   "id": "54d3bbb0",
   "metadata": {},
   "outputs": [],
   "source": [
    "#I.12.3\n",
    "dev = qml.device('default.qubit', wires=3)\n",
    "\n",
    "@qml.qnode(dev)\n",
    "def controlled_rotations(theta, phi, omega):\n",
    "\n",
    "    # APPLY THE OPERATIONS IN THE CIRCUIT AND RETURN MEASUREMENT PROBABILITIES\n",
    "    qml.Hadamard(wires=0)\n",
    "    qml.CRX(theta, wires = [0,1])\n",
    "    qml.CRY(phi, wires = [1,2])\n",
    "    qml.CRZ(omega, wires = [2,0])\n",
    "    \n",
    "    return qml.probs(wires = [0,1,2])\n",
    "\n",
    "theta, phi, omega = 0.1, 0.2, 0.3\n",
    "print(controlled_rotations(theta, phi, omega))"
   ]
  }
 ],
 "metadata": {
  "kernelspec": {
   "display_name": "Python 3 (ipykernel)",
   "language": "python",
   "name": "python3"
  },
  "language_info": {
   "codemirror_mode": {
    "name": "ipython",
    "version": 3
   },
   "file_extension": ".py",
   "mimetype": "text/x-python",
   "name": "python",
   "nbconvert_exporter": "python",
   "pygments_lexer": "ipython3",
   "version": "3.9.12"
  }
 },
 "nbformat": 4,
 "nbformat_minor": 5
}
