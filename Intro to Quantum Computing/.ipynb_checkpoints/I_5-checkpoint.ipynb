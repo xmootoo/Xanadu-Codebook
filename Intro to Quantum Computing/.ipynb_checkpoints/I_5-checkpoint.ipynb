{
 "cells": [
  {
   "cell_type": "code",
   "execution_count": 123,
   "id": "868c8889",
   "metadata": {},
   "outputs": [],
   "source": [
    "import pennylane as qml\n",
    "from pennylane import numpy as np"
   ]
  },
  {
   "cell_type": "code",
   "execution_count": 6,
   "id": "8fa42bcc",
   "metadata": {},
   "outputs": [],
   "source": [
    "#I.5.1.\n",
    "dev = qml.device(\"default.qubit\", wires=1)\n",
    "\n",
    "@qml.qnode(dev)\n",
    "def apply_z_to_plus():\n",
    "    \n",
    "    # CREATE THE |+> STATE\n",
    "    qml.Hadamard(wires = 0)\n",
    "    \n",
    "    # APPLY PAULI Z\n",
    "    qml.PauliZ(wires = 0)\n",
    "    \n",
    "    # RETURN THE STATE\n",
    "    return qml.state()\n",
    "\n",
    "print(apply_z_to_plus())"
   ]
  },
  {
   "cell_type": "code",
   "execution_count": null,
   "id": "e8258c00",
   "metadata": {},
   "outputs": [],
   "source": [
    "#I.5.2.\n",
    "dev = qml.device(\"default.qubit\", wires=1)\n",
    "@qml.qnode(dev)\n",
    "def fake_z():\n",
    "    \n",
    "    # CREATE THE |+> STATE\n",
    "    qml.Hadamard(wires = 0)\n",
    "    \n",
    "    # APPLY RZ (remember to ignore global phase)\n",
    "    qml.RZ(np.pi, wires = 0)\n",
    "\n",
    "    # RETURN THE STATE\n",
    "    return qml.state()"
   ]
  },
  {
   "cell_type": "code",
   "execution_count": 8,
   "id": "479be289",
   "metadata": {},
   "outputs": [],
   "source": [
    "#I.5.3.\n",
    "dev = qml.device(\"default.qubit\", wires=1)\n",
    "\n",
    "@qml.qnode(dev)\n",
    "def many_rotations():\n",
    "\n",
    "    # IMPLEMENT THE CIRCUIT\n",
    "    qml.Hadamard(wires = 0)\n",
    "    qml.S(wires = 0)\n",
    "    qml.adjoint(qml.T)(wires = 0)\n",
    "    qml.RZ(0.3, wires = 0)\n",
    "    qml.adjoint(qml.S)(wires = 0)\n",
    "    \n",
    "    # RETURN THE STATE\n",
    "    return qml.state()"
   ]
  },
  {
   "cell_type": "code",
   "execution_count": 14,
   "id": "8c8d4ead",
   "metadata": {},
   "outputs": [
    {
     "data": {
      "text/plain": [
       "tensor([0.70710678+0.j, 0.        +0.j, 0.        +0.j, 0.        +0.j,\n",
       "        0.70710678+0.j, 0.        +0.j, 0.        +0.j, 0.        +0.j], requires_grad=True)"
      ]
     },
     "execution_count": 14,
     "metadata": {},
     "output_type": "execute_result"
    }
   ],
   "source": [
    "#I.5.4.\n",
    "dev = qml.device(\"default.qubit\", wires=3)\n",
    "\n",
    "\n",
    "@qml.qnode(dev)\n",
    "def just_enough_ts():\n",
    "    #T^2 is the S gate and T^4 is the PauliZ gate\n",
    "    \n",
    "    #Hadamard on all qubits\n",
    "    qml.Hadamard(wires = 0)\n",
    "    qml.Hadamard(wires = 1)\n",
    "    qml.Hadamard(wires = 2)\n",
    "    \n",
    "    #S on the 1st qubit\n",
    "    qml.S(wires = 0)\n",
    "    \n",
    "    #T on 2nd qubit\n",
    "    qml.T(wires = 1)\n",
    "    \n",
    "    #T* on 3rd qubit\n",
    "    qml.adjoint(qml.T)(wires = 2)\n",
    "    \n",
    "    #Hadamard on all qubits\n",
    "    qml.Hadamard(wires = 0)\n",
    "    qml.Hadamard(wires = 1)\n",
    "    qml.Hadamard(wires = 2)\n",
    "    \n",
    "    #S* on the 1st qubit\n",
    "    qml.adjoint(qml.S)(wires = 0)\n",
    "    \n",
    "    #T^4 = Z on the 2nd qubit\n",
    "    qml.PauliZ(wires = 1)\n",
    "    \n",
    "    #S* on the 3rd qubit\n",
    "    qml.adjoint(qml.S)(wires = 2)\n",
    "    \n",
    "    #T* on the 3rd qubit\n",
    "    qml.adjoint(qml.T)(wires = 2)\n",
    "    \n",
    "    #Hadamard on all qubits\n",
    "    qml.Hadamard(wires = 0)\n",
    "    qml.Hadamard(wires = 1)\n",
    "    qml.Hadamard(wires = 2)\n",
    "    \n",
    "    #Return probabilities\n",
    "    return qml.probs(wires = [0,1,2])\n",
    "\n",
    "just_enough_ts()\n",
    "\n",
    "# FILL IN THE CORRECT VALUES FOR THE ORIGINAL CIRCUIT\n",
    "original_depth = 8\n",
    "original_t_count = 13\n",
    "original_t_depth = 6\n",
    "\n",
    "# FILL IN THE CORRECT VALUES FOR THE NEW, OPTIMIZED CIRCUIT\n",
    "optimal_depth = 6\n",
    "optimal_t_count = 3\n",
    "optimal_t_depth = 2"
   ]
  }
 ],
 "metadata": {
  "kernelspec": {
   "display_name": "Python 3 (ipykernel)",
   "language": "python",
   "name": "python3"
  },
  "language_info": {
   "codemirror_mode": {
    "name": "ipython",
    "version": 3
   },
   "file_extension": ".py",
   "mimetype": "text/x-python",
   "name": "python",
   "nbconvert_exporter": "python",
   "pygments_lexer": "ipython3",
   "version": "3.9.12"
  }
 },
 "nbformat": 4,
 "nbformat_minor": 5
}
