{
 "cells": [
  {
   "cell_type": "code",
   "execution_count": 1,
   "id": "0e571e22",
   "metadata": {},
   "outputs": [],
   "source": [
    "import pennylane as qml\n",
    "import numpy as np"
   ]
  },
  {
   "cell_type": "code",
   "execution_count": 2,
   "id": "5c982db3",
   "metadata": {},
   "outputs": [],
   "source": [
    "#I.14.1\n",
    "dev = qml.device('default.qubit', wires=2)\n",
    "\n",
    "@qml.qnode(dev)\n",
    "def prepare_psi_plus():\n",
    "    # PREPARE (1/sqrt(2)) (|00> + |11>)\n",
    "    qml.Hadamard(wires = 0)\n",
    "    qml.CNOT(wires = [0,1])\n",
    "    return qml.state()\n",
    "\n",
    "\n",
    "@qml.qnode(dev)\n",
    "def prepare_psi_minus():\n",
    "    # PREPARE (1/sqrt(2)) (|00> - |11>)\n",
    "    qml.PauliX(wires = 0)\n",
    "    qml.Hadamard(wires = 0)\n",
    "    qml.CNOT(wires = [0,1])\n",
    "    return qml.state()\n",
    "\n",
    "\n",
    "@qml.qnode(dev)\n",
    "def prepare_phi_plus():\n",
    "    # PREPARE  (1/sqrt(2)) (|01> + |10>)\n",
    "    qml.Hadamard(wires = 1)\n",
    "    qml.PauliX(wires = 0)\n",
    "    qml.CNOT(wires = [1,0])\n",
    "    return qml.state()\n",
    "\n",
    "\n",
    "@qml.qnode(dev)\n",
    "def prepare_phi_minus():\n",
    "    # PREPARE  (1/sqrt(2)) (|01> - |10>)\n",
    "    qml.PauliX(wires = 1)\n",
    "    qml.Hadamard(wires = 1)\n",
    "    qml.PauliX(wires = 0)\n",
    "    qml.PauliX(wires = 1)\n",
    "    qml.CNOT(wires = [1,0])\n",
    "    return qml.state()"
   ]
  },
  {
   "cell_type": "code",
   "execution_count": 4,
   "id": "0db900f8",
   "metadata": {},
   "outputs": [
    {
     "name": "stdout",
     "output_type": "stream",
     "text": [
      "[ 0.        +0.j  0.        +0.j -0.70710678+0.j  0.70710678+0.j\n",
      "  0.        +0.j  0.        +0.j  0.        +0.j  0.        +0.j]\n"
     ]
    }
   ],
   "source": [
    "#I.14.2\n",
    "dev = qml.device(\"default.qubit\", wires=3)\n",
    "\n",
    "Z = np.matrix([[1,0], [0,-1]])\n",
    "Y = np.matrix([[0,-1j],[1j,0]])\n",
    "\n",
    "# State of first 2 qubits\n",
    "state = [0, 1]\n",
    "\n",
    "@qml.qnode(device=dev)\n",
    "def apply_control_sequence(state):\n",
    "    # Set up initial state of the first two qubits\n",
    "    if state[0] == 1:\n",
    "        qml.PauliX(wires=0)\n",
    "    if state[1] == 1:\n",
    "        qml.PauliX(wires=1) \n",
    "\n",
    "    # Set up initial state of the third qubit - use |->\n",
    "    # so we can see the effect on the output\n",
    "    qml.PauliX(wires=2)\n",
    "    qml.Hadamard(wires=2)\n",
    "    \n",
    "    # IMPLEMENT THE MULTIPLEXER\n",
    "    # IF STATE OF FIRST TWO QUBITS IS 01, APPLY X TO THIRD QUBIT\n",
    "    qml.MultiControlledX(control_wires = [0,1], wires = 2, control_values = \"01\")\n",
    "    \n",
    "    # IF STATE OF FIRST TWO QUBITS IS 10, APPLY Z TO THIRD QUBIT\n",
    "    qml.ControlledQubitUnitary(Z, control_wires = [0,1], wires = 2, control_values = \"10\")\n",
    "\n",
    "    \n",
    "    # IF STATE OF FIRST TWO QUBITS IS 11, APPLY Y TO THIRD QUBIT\n",
    "    qml.ControlledQubitUnitary(Y, control_wires = [0,1], wires = 2, control_values = \"11\")\n",
    "    return qml.state()\n",
    "    \n",
    "\n",
    "print(apply_control_sequence(state))"
   ]
  }
 ],
 "metadata": {
  "kernelspec": {
   "display_name": "Python 3 (ipykernel)",
   "language": "python",
   "name": "python3"
  },
  "language_info": {
   "codemirror_mode": {
    "name": "ipython",
    "version": 3
   },
   "file_extension": ".py",
   "mimetype": "text/x-python",
   "name": "python",
   "nbconvert_exporter": "python",
   "pygments_lexer": "ipython3",
   "version": "3.9.12"
  }
 },
 "nbformat": 4,
 "nbformat_minor": 5
}
